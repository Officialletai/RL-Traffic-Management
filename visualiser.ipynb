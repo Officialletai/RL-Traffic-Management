{
 "cells": [
  {
   "cell_type": "markdown",
   "id": "e73aad40",
   "metadata": {},
   "source": [
    "# Visualiser"
   ]
  },
  {
   "cell_type": "code",
   "execution_count": null,
   "id": "574d81ba",
   "metadata": {},
   "outputs": [],
   "source": [
    "import numpy as np\n",
    "import random\n",
    "import json\n",
    "import scipy \n",
    "import networkx as nx\n",
    "import matplotlib.pyplot as plt\n",
    "from matplotlib.animation import FuncAnimation\n",
    "from IPython.display import HTML"
   ]
  },
  {
   "cell_type": "code",
   "execution_count": null,
   "id": "68a00983",
   "metadata": {},
   "outputs": [],
   "source": [
    "def draw_map(adjacency):\n",
    "    \"\"\"\n",
    "    Draw the graph using matplotlib.\n",
    "    \"\"\"\n",
    "    graph = nx.Graph()\n",
    "\n",
    "    for i in range(len(adjacency)):\n",
    "        for j in range(i+1, len(adjacency[i])):\n",
    "            if adjacency[i][j] != 0:\n",
    "                graph.add_edge(i, j)\n",
    "\n",
    "    # pos = nx.spring_layout(graph)  \n",
    "    pos = nx.kamada_kawai_layout(graph)\n",
    "    \n",
    "    nx.draw(graph, pos, with_labels=True, node_color='lightblue', node_size=500, edge_color='gray')\n",
    "    plt.title(\"Map\")\n",
    "        \n",
    "    plt.show()"
   ]
  },
  {
   "cell_type": "code",
   "execution_count": null,
   "id": "737dd783",
   "metadata": {},
   "outputs": [],
   "source": [
    "def update_position(frame, dots, pos, all_car_journeys):\n",
    "    \"\"\"\n",
    "    Update position of all cars across frames\n",
    "    \"\"\"\n",
    "    for car in all_car_journeys:\n",
    "        try:\n",
    "            current_edge, percent_within_edge = all_car_journeys[car][frame]\n",
    "        except:\n",
    "            current_edge, percent_within_edge = all_car_journeys[car][-1] # Arrived at destination so remain at last position\n",
    "            \n",
    "        dots[car].set_data(pos[current_edge[0]][0] + (pos[current_edge[1]][0] - pos[current_edge[0]][0]) * percent_within_edge,\n",
    "                     pos[current_edge[0]][1] + (pos[current_edge[1]][1] - pos[current_edge[0]][1]) * percent_within_edge)\n",
    "    \n",
    "    return dots\n",
    "\n",
    "def visualise(adjacency, all_car_journeys):\n",
    "    \"\"\"\n",
    "    Visualise traffic moving through map\n",
    "    \"\"\"\n",
    "    graph = nx.Graph()\n",
    "\n",
    "    for i in range(len(adjacency)):\n",
    "        for j in range(i + 1, len(adjacency[i])):\n",
    "            if adjacency[i][j] != 0:\n",
    "                graph.add_edge(i, j)\n",
    "\n",
    "    # pos = nx.spring_layout(graph)\n",
    "    pos = nx.kamada_kawai_layout(graph)\n",
    "    \n",
    "    fig, ax = plt.subplots()\n",
    "    ax.set_title(\"Episode Replay\")\n",
    "\n",
    "    nx.draw(graph, pos, with_labels=True, node_color='lightblue', node_size=500, edge_color='gray')\n",
    "\n",
    "    dots = {}\n",
    "    for car in all_car_journeys:\n",
    "        dots[car], = plt.plot([], [], marker='o', markersize=7)\n",
    "#     dot, = plt.plot([], [], 'ro', markersize=10)  # Initialize the red dot\n",
    "    \n",
    "    total_frames = max([len(all_car_journeys[car]) for car in all_car_journeys])\n",
    "    \n",
    "    ani = FuncAnimation(fig, update_position, frames=total_frames, fargs=(dots, pos, all_car_journeys), interval=500)\n",
    "\n",
    "    plt.close(fig)  # Close the figure to prevent double display in Jupyter\n",
    "\n",
    "    return HTML(ani.to_jshtml())"
   ]
  },
  {
   "cell_type": "markdown",
   "id": "e406e5e4",
   "metadata": {},
   "source": [
    "Load saved data"
   ]
  },
  {
   "cell_type": "code",
   "execution_count": null,
   "id": "4d1ac58d",
   "metadata": {},
   "outputs": [],
   "source": [
    "adjacency = np.load('adjacency.npy')\n",
    "print(adjacency)\n",
    "\n",
    "with open('journeys.json', \"r\") as json_file:\n",
    "    all_car_journeys = json.load(json_file)\n",
    "print(all_car_journeys)\n"
   ]
  },
  {
   "cell_type": "markdown",
   "id": "1b48d34a",
   "metadata": {},
   "source": [
    "Draw Map"
   ]
  },
  {
   "cell_type": "code",
   "execution_count": null,
   "id": "71aa28cb",
   "metadata": {},
   "outputs": [],
   "source": [
    "draw_map(adjacency)"
   ]
  },
  {
   "cell_type": "markdown",
   "id": "855e7605",
   "metadata": {},
   "source": [
    "Visualise Episode"
   ]
  },
  {
   "cell_type": "code",
   "execution_count": null,
   "id": "2549e888",
   "metadata": {},
   "outputs": [],
   "source": [
    "visualise(adjacency, all_car_journeys)"
   ]
  },
  {
   "cell_type": "code",
   "execution_count": null,
   "id": "9144e559",
   "metadata": {},
   "outputs": [],
   "source": []
  }
 ],
 "metadata": {
  "kernelspec": {
   "display_name": "Python 3 (ipykernel)",
   "language": "python",
   "name": "python3"
  },
  "language_info": {
   "codemirror_mode": {
    "name": "ipython",
    "version": 3
   },
   "file_extension": ".py",
   "mimetype": "text/x-python",
   "name": "python",
   "nbconvert_exporter": "python",
   "pygments_lexer": "ipython3",
   "version": "3.8.16"
  }
 },
 "nbformat": 4,
 "nbformat_minor": 5
}
